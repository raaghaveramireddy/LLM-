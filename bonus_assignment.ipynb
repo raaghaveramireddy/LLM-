{
  "nbformat": 4,
  "nbformat_minor": 0,
  "metadata": {
    "colab": {
      "provenance": [],
      "authorship_tag": "ABX9TyN1Cc3HeanZsnhEiK9Okinb",
      "include_colab_link": true
    },
    "kernelspec": {
      "name": "python3",
      "display_name": "Python 3"
    },
    "language_info": {
      "name": "python"
    }
  },
  "cells": [
    {
      "cell_type": "markdown",
      "metadata": {
        "id": "view-in-github",
        "colab_type": "text"
      },
      "source": [
        "<a href=\"https://colab.research.google.com/github/raaghaveramireddy/LLM-/blob/main/bonus_assignment.ipynb\" target=\"_parent\"><img src=\"https://colab.research.google.com/assets/colab-badge.svg\" alt=\"Open In Colab\"/></a>"
      ]
    },
    {
      "cell_type": "code",
      "execution_count": 8,
      "metadata": {
        "colab": {
          "base_uri": "https://localhost:8080/"
        },
        "id": "yZaSkqNjESjt",
        "outputId": "7ca9fb3d-0426-401e-df7b-7a75a7834bcf"
      },
      "outputs": [
        {
          "output_type": "stream",
          "name": "stdout",
          "text": [
            "Reading package lists... Done\n",
            "Building dependency tree... Done\n",
            "Reading state information... Done\n",
            "graphviz is already the newest version (2.42.2-6ubuntu0.1).\n",
            "0 upgraded, 0 newly installed, 0 to remove and 49 not upgraded.\n",
            "Requirement already satisfied: graphviz in /usr/local/lib/python3.10/dist-packages (0.20.3)\n"
          ]
        }
      ],
      "source": [
        "!apt-get install -y graphviz\n",
        "!pip install graphviz\n"
      ]
    },
    {
      "cell_type": "code",
      "source": [
        "import heapq\n",
        "from graphviz import Digraph\n",
        "from IPython.display import Image\n",
        "\n",
        "class Fre:\n",
        "    def __init__(self, r, cha=None):\n",
        "        self.r = r\n",
        "        self.cha = cha\n",
        "        self.v = None\n",
        "        self.t = None\n",
        "\n",
        "    def __lt__(self, k):\n",
        "        if self.r == k.r:\n",
        "            return self.cha < k.cha\n",
        "        return self.r < k.r\n",
        "\n",
        "def huff(tr3):\n",
        "    k = [Fre(r, cha) for cha, r in tr3.items()]\n",
        "    heapq.heapify(k)\n",
        "\n",
        "    while len(k) > 1:\n",
        "        v = heapq.heappop(k)\n",
        "        t = heapq.heappop(k)\n",
        "        rv = Fre(v.r + t.r)\n",
        "        rv.v = v\n",
        "        rv.t = t\n",
        "        heapq.heappush(k, rv)\n",
        "\n",
        "    s = k[0]\n",
        "    b = {}\n",
        "    _generate_codes(s, \"\", b)\n",
        "\n",
        "    # Generate tree visualization\n",
        "    kr = Digraph()\n",
        "    _build_tree_graph(kr, s)\n",
        "    kr.render(\"huffman_tree\", format=\"png\", cleanup=True)  # Save and render tree as an image\n",
        "    return b\n",
        "\n",
        "def _generate_codes(a, current_code, b):\n",
        "    if a is not None:\n",
        "        if a.cha:\n",
        "            b[a.cha] = current_code\n",
        "        _generate_codes(a.v, current_code + \"0\", b)\n",
        "        _generate_codes(a.t, current_code + \"1\", b)\n",
        "\n",
        "def _build_tree_graph(kr, a, parent_id=None, edge_label=\"\"):\n",
        "    # Create a unique ID for each node\n",
        "    node_id = str(id(a))\n",
        "    if a.cha:\n",
        "        # Leaf node (character node)\n",
        "        label = f\"{a.r}\\n{a.cha}\"\n",
        "        kr.node(node_id, label=label, style=\"filled\", fillcolor=\"orange\")\n",
        "    else:\n",
        "        # Internal node\n",
        "        label = f\"{a.r}\"\n",
        "        kr.node(node_id, label=label)\n",
        "    if parent_id:\n",
        "        kr.edge(parent_id, node_id, label=edge_label)\n",
        "    # Recursively create nodes for children\n",
        "    if a.v:\n",
        "        _build_tree_graph(kr, a.v, node_id, \"0\")\n",
        "    if a.t:\n",
        "        _build_tree_graph(kr, a.t, node_id, \"1\")\n",
        "\n",
        "# Example usage\n",
        "input_data = input(\"Enter character and frequency pairs (e.g., A 5, B 9, C 12): \")\n",
        "tr3 = {}\n",
        "for item in input_data.split(\",\"):\n",
        "    item = item.strip()\n",
        "    if item:\n",
        "        try:\n",
        "            cha, r = item.split()\n",
        "            cha = cha.lower()\n",
        "            tr3[cha] = tr3.get(cha, 0) + int(r)\n",
        "        except ValueError:\n",
        "            print(f\"Invalid input format for '{item}'. Skipping.\")\n",
        "\n",
        "if tr3:\n",
        "    huffman_codes = huff(tr3)\n",
        "    print(\"\\nHuffman Codes for each character:\")\n",
        "    for cha, code in huffman_codes.items():\n",
        "        print(f\"Character: '{cha}' | Huffman Code: {code}\")\n",
        "    print(\"\\n\")\n",
        "    # Display the generated Huffman Tree image\n",
        "    display(Image(filename=\"huffman_tree.png\", width=400, height=500))\n",
        "else:\n",
        "    print(\"No valid character-frequency pairs were provided.\")\n"
      ],
      "metadata": {
        "colab": {
          "base_uri": "https://localhost:8080/",
          "height": 660
        },
        "id": "6GK3tnULJJ0w",
        "outputId": "d692a124-0c1c-4de2-d4f1-51a621d23b88"
      },
      "execution_count": 11,
      "outputs": [
        {
          "output_type": "stream",
          "name": "stdout",
          "text": [
            "Enter character and frequency pairs (e.g., A 5, B 9, C 12): A 19,k 7,r 30\n",
            "\n",
            "Huffman Codes for each character:\n",
            "Character: 'k' | Huffman Code: 00\n",
            "Character: 'a' | Huffman Code: 01\n",
            "Character: 'r' | Huffman Code: 1\n",
            "\n",
            "\n"
          ]
        },
        {
          "output_type": "display_data",
          "data": {
            "image/png": "[encoded data removed]",
            "text/plain": [
              "<IPython.core.display.Image object>"
            ]
          },
          "metadata": {
            "image/png": {
              "width": 400,
              "height": 500
            }
          }
        }
      ]
    }
  ]
}